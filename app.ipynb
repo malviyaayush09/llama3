{
 "cells": [
  {
   "cell_type": "code",
   "execution_count": 1,
   "metadata": {},
   "outputs": [
    {
     "name": "stdout",
     "output_type": "stream",
     "text": [
      "Note: you may need to restart the kernel to use updated packages.\n"
     ]
    },
    {
     "name": "stderr",
     "output_type": "stream",
     "text": [
      "  WARNING: The script filetype.exe is installed in 'c:\\Users\\AMALVIYA\\AppData\\Local\\anaconda3\\envs\\nlp\\Scripts' which is not on PATH.\n",
      "  Consider adding this directory to PATH or, if you prefer to suppress this warning, use --no-warn-script-location.\n",
      "  WARNING: The script tabulate.exe is installed in 'c:\\Users\\AMALVIYA\\AppData\\Local\\anaconda3\\envs\\nlp\\Scripts' which is not on PATH.\n",
      "  Consider adding this directory to PATH or, if you prefer to suppress this warning, use --no-warn-script-location.\n",
      "  WARNING: The script deep.exe is installed in 'c:\\Users\\AMALVIYA\\AppData\\Local\\anaconda3\\envs\\nlp\\Scripts' which is not on PATH.\n",
      "  Consider adding this directory to PATH or, if you prefer to suppress this warning, use --no-warn-script-location.\n",
      "  WARNING: The script unstructured-ingest.exe is installed in 'c:\\Users\\AMALVIYA\\AppData\\Local\\anaconda3\\envs\\nlp\\Scripts' which is not on PATH.\n",
      "  Consider adding this directory to PATH or, if you prefer to suppress this warning, use --no-warn-script-location.\n"
     ]
    },
    {
     "name": "stdout",
     "output_type": "stream",
     "text": [
      "Note: you may need to restart the kernel to use updated packages.\n"
     ]
    },
    {
     "name": "stderr",
     "output_type": "stream",
     "text": [
      "  WARNING: The script pytesseract.exe is installed in 'c:\\Users\\AMALVIYA\\AppData\\Local\\anaconda3\\envs\\nlp\\Scripts' which is not on PATH.\n",
      "  Consider adding this directory to PATH or, if you prefer to suppress this warning, use --no-warn-script-location.\n",
      "  WARNING: The scripts backend-test-tools.exe, check-model.exe and check-node.exe are installed in 'c:\\Users\\AMALVIYA\\AppData\\Local\\anaconda3\\envs\\nlp\\Scripts' which is not on PATH.\n",
      "  Consider adding this directory to PATH or, if you prefer to suppress this warning, use --no-warn-script-location.\n",
      "  WARNING: The script humanfriendly.exe is installed in 'c:\\Users\\AMALVIYA\\AppData\\Local\\anaconda3\\envs\\nlp\\Scripts' which is not on PATH.\n",
      "  Consider adding this directory to PATH or, if you prefer to suppress this warning, use --no-warn-script-location.\n",
      "  WARNING: The scripts pyrsa-decrypt.exe, pyrsa-encrypt.exe, pyrsa-keygen.exe, pyrsa-priv2pub.exe, pyrsa-sign.exe and pyrsa-verify.exe are installed in 'c:\\Users\\AMALVIYA\\AppData\\Local\\anaconda3\\envs\\nlp\\Scripts' which is not on PATH.\n",
      "  Consider adding this directory to PATH or, if you prefer to suppress this warning, use --no-warn-script-location.\n",
      "  WARNING: The script oxmsg.exe is installed in 'c:\\Users\\AMALVIYA\\AppData\\Local\\anaconda3\\envs\\nlp\\Scripts' which is not on PATH.\n",
      "  Consider adding this directory to PATH or, if you prefer to suppress this warning, use --no-warn-script-location.\n",
      "  WARNING: The script markdown_py.exe is installed in 'c:\\Users\\AMALVIYA\\AppData\\Local\\anaconda3\\envs\\nlp\\Scripts' which is not on PATH.\n",
      "  Consider adding this directory to PATH or, if you prefer to suppress this warning, use --no-warn-script-location.\n",
      "  WARNING: The script coloredlogs.exe is installed in 'c:\\Users\\AMALVIYA\\AppData\\Local\\anaconda3\\envs\\nlp\\Scripts' which is not on PATH.\n",
      "  Consider adding this directory to PATH or, if you prefer to suppress this warning, use --no-warn-script-location.\n",
      "  WARNING: The script onnxruntime_test.exe is installed in 'c:\\Users\\AMALVIYA\\AppData\\Local\\anaconda3\\envs\\nlp\\Scripts' which is not on PATH.\n",
      "  Consider adding this directory to PATH or, if you prefer to suppress this warning, use --no-warn-script-location.\n"
     ]
    },
    {
     "name": "stdout",
     "output_type": "stream",
     "text": [
      "Note: you may need to restart the kernel to use updated packages.\n"
     ]
    },
    {
     "name": "stderr",
     "output_type": "stream",
     "text": [
      "The system cannot find the file specified.\n"
     ]
    },
    {
     "name": "stdout",
     "output_type": "stream",
     "text": [
      "Collecting ollama (from -r requirements.txt (line 1))\n",
      "  Using cached ollama-0.2.1-py3-none-any.whl.metadata (4.2 kB)\n",
      "Requirement already satisfied: streamlit in c:\\users\\amalviya\\appdata\\local\\anaconda3\\envs\\nlp\\lib\\site-packages (from -r requirements.txt (line 2)) (1.34.0)\n",
      "Requirement already satisfied: pdfplumber in c:\\users\\amalviya\\appdata\\local\\anaconda3\\envs\\nlp\\lib\\site-packages (from -r requirements.txt (line 3)) (0.11.1)\n",
      "Requirement already satisfied: langchain in c:\\users\\amalviya\\appdata\\local\\anaconda3\\envs\\nlp\\lib\\site-packages (from -r requirements.txt (line 4)) (0.2.3)\n",
      "Requirement already satisfied: langchain-core in c:\\users\\amalviya\\appdata\\local\\anaconda3\\envs\\nlp\\lib\\site-packages (from -r requirements.txt (line 5)) (0.2.5)\n",
      "Collecting langchain-community (from -r requirements.txt (line 6))\n",
      "  Using cached langchain_community-0.2.6-py3-none-any.whl.metadata (2.5 kB)\n",
      "Requirement already satisfied: langchain_text_splitters in c:\\users\\amalviya\\appdata\\local\\anaconda3\\envs\\nlp\\lib\\site-packages (from -r requirements.txt (line 7)) (0.2.1)\n",
      "Requirement already satisfied: psutil in c:\\users\\amalviya\\appdata\\local\\anaconda3\\envs\\nlp\\lib\\site-packages (from -r requirements.txt (line 8)) (5.9.0)\n",
      "Requirement already satisfied: matplotlib in c:\\users\\amalviya\\appdata\\local\\anaconda3\\envs\\nlp\\lib\\site-packages (from -r requirements.txt (line 9)) (3.9.0)\n",
      "Requirement already satisfied: httpx<0.28.0,>=0.27.0 in c:\\users\\amalviya\\appdata\\local\\anaconda3\\envs\\nlp\\lib\\site-packages (from ollama->-r requirements.txt (line 1)) (0.27.0)\n",
      "Requirement already satisfied: altair<6,>=4.0 in c:\\users\\amalviya\\appdata\\local\\anaconda3\\envs\\nlp\\lib\\site-packages (from streamlit->-r requirements.txt (line 2)) (5.3.0)\n",
      "Requirement already satisfied: blinker<2,>=1.0.0 in c:\\users\\amalviya\\appdata\\local\\anaconda3\\envs\\nlp\\lib\\site-packages (from streamlit->-r requirements.txt (line 2)) (1.8.2)\n",
      "Requirement already satisfied: cachetools<6,>=4.0 in c:\\users\\amalviya\\appdata\\local\\anaconda3\\envs\\nlp\\lib\\site-packages (from streamlit->-r requirements.txt (line 2)) (5.3.3)\n",
      "Requirement already satisfied: click<9,>=7.0 in c:\\users\\amalviya\\appdata\\local\\anaconda3\\envs\\nlp\\lib\\site-packages (from streamlit->-r requirements.txt (line 2)) (8.1.7)\n",
      "Requirement already satisfied: numpy<2,>=1.19.3 in c:\\users\\amalviya\\appdata\\local\\anaconda3\\envs\\nlp\\lib\\site-packages (from streamlit->-r requirements.txt (line 2)) (1.26.4)\n",
      "Requirement already satisfied: packaging<25,>=16.8 in c:\\users\\amalviya\\appdata\\local\\anaconda3\\envs\\nlp\\lib\\site-packages (from streamlit->-r requirements.txt (line 2)) (23.2)\n",
      "Requirement already satisfied: pandas<3,>=1.3.0 in c:\\users\\amalviya\\appdata\\local\\anaconda3\\envs\\nlp\\lib\\site-packages (from streamlit->-r requirements.txt (line 2)) (2.2.2)\n",
      "Requirement already satisfied: pillow<11,>=7.1.0 in c:\\users\\amalviya\\appdata\\local\\anaconda3\\envs\\nlp\\lib\\site-packages (from streamlit->-r requirements.txt (line 2)) (10.3.0)\n",
      "Requirement already satisfied: protobuf<5,>=3.20 in c:\\users\\amalviya\\appdata\\local\\anaconda3\\envs\\nlp\\lib\\site-packages (from streamlit->-r requirements.txt (line 2)) (4.25.3)\n",
      "Requirement already satisfied: pyarrow>=7.0 in c:\\users\\amalviya\\appdata\\local\\anaconda3\\envs\\nlp\\lib\\site-packages (from streamlit->-r requirements.txt (line 2)) (16.1.0)\n",
      "Requirement already satisfied: requests<3,>=2.27 in c:\\users\\amalviya\\appdata\\local\\anaconda3\\envs\\nlp\\lib\\site-packages (from streamlit->-r requirements.txt (line 2)) (2.32.1)\n",
      "Requirement already satisfied: rich<14,>=10.14.0 in c:\\users\\amalviya\\appdata\\local\\anaconda3\\envs\\nlp\\lib\\site-packages (from streamlit->-r requirements.txt (line 2)) (13.7.1)\n",
      "Requirement already satisfied: tenacity<9,>=8.1.0 in c:\\users\\amalviya\\appdata\\local\\anaconda3\\envs\\nlp\\lib\\site-packages (from streamlit->-r requirements.txt (line 2)) (8.3.0)\n",
      "Requirement already satisfied: toml<2,>=0.10.1 in c:\\users\\amalviya\\appdata\\local\\anaconda3\\envs\\nlp\\lib\\site-packages (from streamlit->-r requirements.txt (line 2)) (0.10.2)\n",
      "Requirement already satisfied: typing-extensions<5,>=4.3.0 in c:\\users\\amalviya\\appdata\\local\\anaconda3\\envs\\nlp\\lib\\site-packages (from streamlit->-r requirements.txt (line 2)) (4.11.0)\n",
      "Requirement already satisfied: gitpython!=3.1.19,<4,>=3.0.7 in c:\\users\\amalviya\\appdata\\local\\anaconda3\\envs\\nlp\\lib\\site-packages (from streamlit->-r requirements.txt (line 2)) (3.1.43)\n",
      "Requirement already satisfied: pydeck<1,>=0.8.0b4 in c:\\users\\amalviya\\appdata\\local\\anaconda3\\envs\\nlp\\lib\\site-packages (from streamlit->-r requirements.txt (line 2)) (0.9.1)\n",
      "Requirement already satisfied: tornado<7,>=6.0.3 in c:\\users\\amalviya\\appdata\\local\\anaconda3\\envs\\nlp\\lib\\site-packages (from streamlit->-r requirements.txt (line 2)) (6.3.3)\n",
      "Requirement already satisfied: watchdog>=2.1.5 in c:\\users\\amalviya\\appdata\\local\\anaconda3\\envs\\nlp\\lib\\site-packages (from streamlit->-r requirements.txt (line 2)) (4.0.0)\n",
      "Requirement already satisfied: pdfminer.six==20231228 in c:\\users\\amalviya\\appdata\\local\\anaconda3\\envs\\nlp\\lib\\site-packages (from pdfplumber->-r requirements.txt (line 3)) (20231228)\n",
      "Requirement already satisfied: pypdfium2>=4.18.0 in c:\\users\\amalviya\\appdata\\local\\anaconda3\\envs\\nlp\\lib\\site-packages (from pdfplumber->-r requirements.txt (line 3)) (4.30.0)\n",
      "Requirement already satisfied: charset-normalizer>=2.0.0 in c:\\users\\amalviya\\appdata\\local\\anaconda3\\envs\\nlp\\lib\\site-packages (from pdfminer.six==20231228->pdfplumber->-r requirements.txt (line 3)) (3.3.2)\n",
      "Requirement already satisfied: cryptography>=36.0.0 in c:\\users\\amalviya\\appdata\\local\\anaconda3\\envs\\nlp\\lib\\site-packages (from pdfminer.six==20231228->pdfplumber->-r requirements.txt (line 3)) (42.0.7)\n",
      "Requirement already satisfied: PyYAML>=5.3 in c:\\users\\amalviya\\appdata\\local\\anaconda3\\envs\\nlp\\lib\\site-packages (from langchain->-r requirements.txt (line 4)) (6.0.1)\n",
      "Requirement already satisfied: SQLAlchemy<3,>=1.4 in c:\\users\\amalviya\\appdata\\local\\anaconda3\\envs\\nlp\\lib\\site-packages (from langchain->-r requirements.txt (line 4)) (2.0.30)\n",
      "Requirement already satisfied: aiohttp<4.0.0,>=3.8.3 in c:\\users\\amalviya\\appdata\\local\\anaconda3\\envs\\nlp\\lib\\site-packages (from langchain->-r requirements.txt (line 4)) (3.9.5)\n",
      "Requirement already satisfied: async-timeout<5.0.0,>=4.0.0 in c:\\users\\amalviya\\appdata\\local\\anaconda3\\envs\\nlp\\lib\\site-packages (from langchain->-r requirements.txt (line 4)) (4.0.3)\n",
      "Requirement already satisfied: langsmith<0.2.0,>=0.1.17 in c:\\users\\amalviya\\appdata\\local\\anaconda3\\envs\\nlp\\lib\\site-packages (from langchain->-r requirements.txt (line 4)) (0.1.76)\n",
      "Requirement already satisfied: pydantic<3,>=1 in c:\\users\\amalviya\\appdata\\local\\anaconda3\\envs\\nlp\\lib\\site-packages (from langchain->-r requirements.txt (line 4)) (1.10.15)\n",
      "Requirement already satisfied: jsonpatch<2.0,>=1.33 in c:\\users\\amalviya\\appdata\\local\\anaconda3\\envs\\nlp\\lib\\site-packages (from langchain-core->-r requirements.txt (line 5)) (1.33)\n",
      "Requirement already satisfied: dataclasses-json<0.7,>=0.5.7 in c:\\users\\amalviya\\appdata\\local\\anaconda3\\envs\\nlp\\lib\\site-packages (from langchain-community->-r requirements.txt (line 6)) (0.6.6)\n",
      "Collecting langchain (from -r requirements.txt (line 4))\n",
      "  Using cached langchain-0.2.6-py3-none-any.whl.metadata (7.0 kB)\n",
      "Collecting langchain-core (from -r requirements.txt (line 5))\n",
      "  Using cached langchain_core-0.2.10-py3-none-any.whl.metadata (6.0 kB)\n",
      "Requirement already satisfied: contourpy>=1.0.1 in c:\\users\\amalviya\\appdata\\local\\anaconda3\\envs\\nlp\\lib\\site-packages (from matplotlib->-r requirements.txt (line 9)) (1.2.1)\n",
      "Requirement already satisfied: cycler>=0.10 in c:\\users\\amalviya\\appdata\\local\\anaconda3\\envs\\nlp\\lib\\site-packages (from matplotlib->-r requirements.txt (line 9)) (0.12.1)\n",
      "Requirement already satisfied: fonttools>=4.22.0 in c:\\users\\amalviya\\appdata\\local\\anaconda3\\envs\\nlp\\lib\\site-packages (from matplotlib->-r requirements.txt (line 9)) (4.53.0)\n",
      "Requirement already satisfied: kiwisolver>=1.3.1 in c:\\users\\amalviya\\appdata\\local\\anaconda3\\envs\\nlp\\lib\\site-packages (from matplotlib->-r requirements.txt (line 9)) (1.4.5)\n",
      "Requirement already satisfied: pyparsing>=2.3.1 in c:\\users\\amalviya\\appdata\\local\\anaconda3\\envs\\nlp\\lib\\site-packages (from matplotlib->-r requirements.txt (line 9)) (3.1.2)\n",
      "Requirement already satisfied: python-dateutil>=2.7 in c:\\users\\amalviya\\appdata\\local\\anaconda3\\envs\\nlp\\lib\\site-packages (from matplotlib->-r requirements.txt (line 9)) (2.8.2)\n",
      "Requirement already satisfied: importlib-resources>=3.2.0 in c:\\users\\amalviya\\appdata\\local\\anaconda3\\envs\\nlp\\lib\\site-packages (from matplotlib->-r requirements.txt (line 9)) (6.4.0)\n",
      "Requirement already satisfied: aiosignal>=1.1.2 in c:\\users\\amalviya\\appdata\\local\\anaconda3\\envs\\nlp\\lib\\site-packages (from aiohttp<4.0.0,>=3.8.3->langchain->-r requirements.txt (line 4)) (1.3.1)\n",
      "Requirement already satisfied: attrs>=17.3.0 in c:\\users\\amalviya\\appdata\\local\\anaconda3\\envs\\nlp\\lib\\site-packages (from aiohttp<4.0.0,>=3.8.3->langchain->-r requirements.txt (line 4)) (23.2.0)\n",
      "Requirement already satisfied: frozenlist>=1.1.1 in c:\\users\\amalviya\\appdata\\local\\anaconda3\\envs\\nlp\\lib\\site-packages (from aiohttp<4.0.0,>=3.8.3->langchain->-r requirements.txt (line 4)) (1.4.1)\n",
      "Requirement already satisfied: multidict<7.0,>=4.5 in c:\\users\\amalviya\\appdata\\local\\anaconda3\\envs\\nlp\\lib\\site-packages (from aiohttp<4.0.0,>=3.8.3->langchain->-r requirements.txt (line 4)) (6.0.5)\n",
      "Requirement already satisfied: yarl<2.0,>=1.0 in c:\\users\\amalviya\\appdata\\local\\anaconda3\\envs\\nlp\\lib\\site-packages (from aiohttp<4.0.0,>=3.8.3->langchain->-r requirements.txt (line 4)) (1.9.4)\n",
      "Requirement already satisfied: jinja2 in c:\\users\\amalviya\\appdata\\local\\anaconda3\\envs\\nlp\\lib\\site-packages (from altair<6,>=4.0->streamlit->-r requirements.txt (line 2)) (3.1.4)\n",
      "Requirement already satisfied: jsonschema>=3.0 in c:\\users\\amalviya\\appdata\\local\\anaconda3\\envs\\nlp\\lib\\site-packages (from altair<6,>=4.0->streamlit->-r requirements.txt (line 2)) (4.22.0)\n",
      "Requirement already satisfied: toolz in c:\\users\\amalviya\\appdata\\local\\anaconda3\\envs\\nlp\\lib\\site-packages (from altair<6,>=4.0->streamlit->-r requirements.txt (line 2)) (0.12.1)\n",
      "Requirement already satisfied: colorama in c:\\users\\amalviya\\appdata\\local\\anaconda3\\envs\\nlp\\lib\\site-packages (from click<9,>=7.0->streamlit->-r requirements.txt (line 2)) (0.4.6)\n",
      "Requirement already satisfied: marshmallow<4.0.0,>=3.18.0 in c:\\users\\amalviya\\appdata\\local\\anaconda3\\envs\\nlp\\lib\\site-packages (from dataclasses-json<0.7,>=0.5.7->langchain-community->-r requirements.txt (line 6)) (3.21.2)\n",
      "Requirement already satisfied: typing-inspect<1,>=0.4.0 in c:\\users\\amalviya\\appdata\\local\\anaconda3\\envs\\nlp\\lib\\site-packages (from dataclasses-json<0.7,>=0.5.7->langchain-community->-r requirements.txt (line 6)) (0.9.0)\n",
      "Requirement already satisfied: gitdb<5,>=4.0.1 in c:\\users\\amalviya\\appdata\\local\\anaconda3\\envs\\nlp\\lib\\site-packages (from gitpython!=3.1.19,<4,>=3.0.7->streamlit->-r requirements.txt (line 2)) (4.0.11)\n",
      "Requirement already satisfied: anyio in c:\\users\\amalviya\\appdata\\local\\anaconda3\\envs\\nlp\\lib\\site-packages (from httpx<0.28.0,>=0.27.0->ollama->-r requirements.txt (line 1)) (4.3.0)\n",
      "Requirement already satisfied: certifi in c:\\users\\amalviya\\appdata\\local\\anaconda3\\envs\\nlp\\lib\\site-packages (from httpx<0.28.0,>=0.27.0->ollama->-r requirements.txt (line 1)) (2024.2.2)\n",
      "Requirement already satisfied: httpcore==1.* in c:\\users\\amalviya\\appdata\\local\\anaconda3\\envs\\nlp\\lib\\site-packages (from httpx<0.28.0,>=0.27.0->ollama->-r requirements.txt (line 1)) (1.0.5)\n",
      "Requirement already satisfied: idna in c:\\users\\amalviya\\appdata\\local\\anaconda3\\envs\\nlp\\lib\\site-packages (from httpx<0.28.0,>=0.27.0->ollama->-r requirements.txt (line 1)) (3.7)\n",
      "Requirement already satisfied: sniffio in c:\\users\\amalviya\\appdata\\local\\anaconda3\\envs\\nlp\\lib\\site-packages (from httpx<0.28.0,>=0.27.0->ollama->-r requirements.txt (line 1)) (1.3.1)\n",
      "Requirement already satisfied: h11<0.15,>=0.13 in c:\\users\\amalviya\\appdata\\local\\anaconda3\\envs\\nlp\\lib\\site-packages (from httpcore==1.*->httpx<0.28.0,>=0.27.0->ollama->-r requirements.txt (line 1)) (0.14.0)\n",
      "Requirement already satisfied: zipp>=3.1.0 in c:\\users\\amalviya\\appdata\\local\\anaconda3\\envs\\nlp\\lib\\site-packages (from importlib-resources>=3.2.0->matplotlib->-r requirements.txt (line 9)) (3.17.0)\n",
      "Requirement already satisfied: jsonpointer>=1.9 in c:\\users\\amalviya\\appdata\\local\\anaconda3\\envs\\nlp\\lib\\site-packages (from jsonpatch<2.0,>=1.33->langchain-core->-r requirements.txt (line 5)) (3.0.0)\n",
      "Requirement already satisfied: orjson<4.0.0,>=3.9.14 in c:\\users\\amalviya\\appdata\\local\\anaconda3\\envs\\nlp\\lib\\site-packages (from langsmith<0.2.0,>=0.1.17->langchain->-r requirements.txt (line 4)) (3.10.4)\n",
      "Requirement already satisfied: pytz>=2020.1 in c:\\users\\amalviya\\appdata\\local\\anaconda3\\envs\\nlp\\lib\\site-packages (from pandas<3,>=1.3.0->streamlit->-r requirements.txt (line 2)) (2024.1)\n",
      "Requirement already satisfied: tzdata>=2022.7 in c:\\users\\amalviya\\appdata\\local\\anaconda3\\envs\\nlp\\lib\\site-packages (from pandas<3,>=1.3.0->streamlit->-r requirements.txt (line 2)) (2024.1)\n",
      "Requirement already satisfied: six>=1.5 in c:\\users\\amalviya\\appdata\\local\\anaconda3\\envs\\nlp\\lib\\site-packages (from python-dateutil>=2.7->matplotlib->-r requirements.txt (line 9)) (1.16.0)\n",
      "Requirement already satisfied: urllib3<3,>=1.21.1 in c:\\users\\amalviya\\appdata\\local\\anaconda3\\envs\\nlp\\lib\\site-packages (from requests<3,>=2.27->streamlit->-r requirements.txt (line 2)) (2.2.1)\n",
      "Requirement already satisfied: markdown-it-py>=2.2.0 in c:\\users\\amalviya\\appdata\\local\\anaconda3\\envs\\nlp\\lib\\site-packages (from rich<14,>=10.14.0->streamlit->-r requirements.txt (line 2)) (3.0.0)\n",
      "Requirement already satisfied: pygments<3.0.0,>=2.13.0 in c:\\users\\amalviya\\appdata\\local\\anaconda3\\envs\\nlp\\lib\\site-packages (from rich<14,>=10.14.0->streamlit->-r requirements.txt (line 2)) (2.15.1)\n",
      "Requirement already satisfied: greenlet!=0.4.17 in c:\\users\\amalviya\\appdata\\local\\anaconda3\\envs\\nlp\\lib\\site-packages (from SQLAlchemy<3,>=1.4->langchain->-r requirements.txt (line 4)) (3.0.3)\n",
      "Requirement already satisfied: cffi>=1.12 in c:\\users\\amalviya\\appdata\\local\\anaconda3\\envs\\nlp\\lib\\site-packages (from cryptography>=36.0.0->pdfminer.six==20231228->pdfplumber->-r requirements.txt (line 3)) (1.16.0)\n",
      "Requirement already satisfied: smmap<6,>=3.0.1 in c:\\users\\amalviya\\appdata\\local\\anaconda3\\envs\\nlp\\lib\\site-packages (from gitdb<5,>=4.0.1->gitpython!=3.1.19,<4,>=3.0.7->streamlit->-r requirements.txt (line 2)) (5.0.1)\n",
      "Requirement already satisfied: MarkupSafe>=2.0 in c:\\users\\amalviya\\appdata\\local\\anaconda3\\envs\\nlp\\lib\\site-packages (from jinja2->altair<6,>=4.0->streamlit->-r requirements.txt (line 2)) (2.1.5)\n",
      "Requirement already satisfied: jsonschema-specifications>=2023.03.6 in c:\\users\\amalviya\\appdata\\local\\anaconda3\\envs\\nlp\\lib\\site-packages (from jsonschema>=3.0->altair<6,>=4.0->streamlit->-r requirements.txt (line 2)) (2023.12.1)\n",
      "Requirement already satisfied: referencing>=0.28.4 in c:\\users\\amalviya\\appdata\\local\\anaconda3\\envs\\nlp\\lib\\site-packages (from jsonschema>=3.0->altair<6,>=4.0->streamlit->-r requirements.txt (line 2)) (0.35.1)\n",
      "Requirement already satisfied: rpds-py>=0.7.1 in c:\\users\\amalviya\\appdata\\local\\anaconda3\\envs\\nlp\\lib\\site-packages (from jsonschema>=3.0->altair<6,>=4.0->streamlit->-r requirements.txt (line 2)) (0.18.1)\n",
      "Requirement already satisfied: mdurl~=0.1 in c:\\users\\amalviya\\appdata\\local\\anaconda3\\envs\\nlp\\lib\\site-packages (from markdown-it-py>=2.2.0->rich<14,>=10.14.0->streamlit->-r requirements.txt (line 2)) (0.1.2)\n",
      "Requirement already satisfied: mypy-extensions>=0.3.0 in c:\\users\\amalviya\\appdata\\local\\anaconda3\\envs\\nlp\\lib\\site-packages (from typing-inspect<1,>=0.4.0->dataclasses-json<0.7,>=0.5.7->langchain-community->-r requirements.txt (line 6)) (1.0.0)\n",
      "Requirement already satisfied: exceptiongroup>=1.0.2 in c:\\users\\amalviya\\appdata\\local\\anaconda3\\envs\\nlp\\lib\\site-packages (from anyio->httpx<0.28.0,>=0.27.0->ollama->-r requirements.txt (line 1)) (1.2.0)\n",
      "Requirement already satisfied: pycparser in c:\\users\\amalviya\\appdata\\local\\anaconda3\\envs\\nlp\\lib\\site-packages (from cffi>=1.12->cryptography>=36.0.0->pdfminer.six==20231228->pdfplumber->-r requirements.txt (line 3)) (2.22)\n",
      "Using cached ollama-0.2.1-py3-none-any.whl (9.7 kB)\n",
      "Using cached langchain_community-0.2.6-py3-none-any.whl (2.2 MB)\n",
      "Using cached langchain-0.2.6-py3-none-any.whl (975 kB)\n",
      "Using cached langchain_core-0.2.10-py3-none-any.whl (332 kB)\n",
      "Installing collected packages: ollama, langchain-core, langchain, langchain-community\n",
      "  Attempting uninstall: langchain-core\n",
      "    Found existing installation: langchain-core 0.2.5\n",
      "    Uninstalling langchain-core-0.2.5:\n",
      "      Successfully uninstalled langchain-core-0.2.5\n",
      "  Attempting uninstall: langchain\n",
      "    Found existing installation: langchain 0.2.3\n",
      "    Uninstalling langchain-0.2.3:\n",
      "      Successfully uninstalled langchain-0.2.3\n",
      "Successfully installed langchain-0.2.6 langchain-community-0.2.6 langchain-core-0.2.10 ollama-0.2.1\n",
      "Note: you may need to restart the kernel to use updated packages.\n"
     ]
    },
    {
     "name": "stderr",
     "output_type": "stream",
     "text": [
      "  WARNING: The script langchain-server.exe is installed in 'c:\\Users\\AMALVIYA\\AppData\\Local\\anaconda3\\envs\\nlp\\Scripts' which is not on PATH.\n",
      "  Consider adding this directory to PATH or, if you prefer to suppress this warning, use --no-warn-script-location.\n"
     ]
    }
   ],
   "source": [
    "%pip install --q unstructured langchain\n",
    "%pip install --q \"unstructured[all-docs]\"\n",
    "%pip install --upgrade 'pydantic>=2.5.3,<3.0.0'\n",
    "%pip install -r requirements.txt"
   ]
  },
  {
   "cell_type": "code",
   "execution_count": 3,
   "metadata": {},
   "outputs": [],
   "source": [
    "from langchain_community.document_loaders import UnstructuredPDFLoader\n",
    "from langchain_community.document_loaders import OnlinePDFLoader"
   ]
  },
  {
   "cell_type": "code",
   "execution_count": 3,
   "metadata": {},
   "outputs": [
    {
     "name": "stdout",
     "output_type": "stream",
     "text": [
      "Requirement already satisfied: pillow_heif in c:\\users\\amalviya\\appdata\\local\\anaconda3\\envs\\nlp\\lib\\site-packages (0.16.0)\n",
      "Requirement already satisfied: pillow>=9.5.0 in c:\\users\\amalviya\\appdata\\local\\anaconda3\\envs\\nlp\\lib\\site-packages (from pillow_heif) (10.3.0)\n",
      "Note: you may need to restart the kernel to use updated packages.\n",
      "Requirement already satisfied: matplotlib in c:\\users\\amalviya\\appdata\\local\\anaconda3\\envs\\nlp\\lib\\site-packages (3.9.0)\n",
      "Requirement already satisfied: contourpy>=1.0.1 in c:\\users\\amalviya\\appdata\\local\\anaconda3\\envs\\nlp\\lib\\site-packages (from matplotlib) (1.2.1)\n",
      "Requirement already satisfied: cycler>=0.10 in c:\\users\\amalviya\\appdata\\local\\anaconda3\\envs\\nlp\\lib\\site-packages (from matplotlib) (0.12.1)\n",
      "Requirement already satisfied: fonttools>=4.22.0 in c:\\users\\amalviya\\appdata\\local\\anaconda3\\envs\\nlp\\lib\\site-packages (from matplotlib) (4.53.0)\n",
      "Requirement already satisfied: kiwisolver>=1.3.1 in c:\\users\\amalviya\\appdata\\local\\anaconda3\\envs\\nlp\\lib\\site-packages (from matplotlib) (1.4.5)\n",
      "Requirement already satisfied: numpy>=1.23 in c:\\users\\amalviya\\appdata\\local\\anaconda3\\envs\\nlp\\lib\\site-packages (from matplotlib) (1.26.4)\n",
      "Requirement already satisfied: packaging>=20.0 in c:\\users\\amalviya\\appdata\\local\\anaconda3\\envs\\nlp\\lib\\site-packages (from matplotlib) (23.2)\n",
      "Requirement already satisfied: pillow>=8 in c:\\users\\amalviya\\appdata\\local\\anaconda3\\envs\\nlp\\lib\\site-packages (from matplotlib) (10.3.0)\n",
      "Requirement already satisfied: pyparsing>=2.3.1 in c:\\users\\amalviya\\appdata\\local\\anaconda3\\envs\\nlp\\lib\\site-packages (from matplotlib) (3.1.2)\n",
      "Requirement already satisfied: python-dateutil>=2.7 in c:\\users\\amalviya\\appdata\\local\\anaconda3\\envs\\nlp\\lib\\site-packages (from matplotlib) (2.8.2)\n",
      "Requirement already satisfied: importlib-resources>=3.2.0 in c:\\users\\amalviya\\appdata\\local\\anaconda3\\envs\\nlp\\lib\\site-packages (from matplotlib) (6.4.0)\n",
      "Requirement already satisfied: zipp>=3.1.0 in c:\\users\\amalviya\\appdata\\local\\anaconda3\\envs\\nlp\\lib\\site-packages (from importlib-resources>=3.2.0->matplotlib) (3.17.0)\n",
      "Requirement already satisfied: six>=1.5 in c:\\users\\amalviya\\appdata\\local\\anaconda3\\envs\\nlp\\lib\\site-packages (from python-dateutil>=2.7->matplotlib) (1.16.0)\n",
      "Note: you may need to restart the kernel to use updated packages.\n",
      "Requirement already satisfied: unstructured_pytesseract in c:\\users\\amalviya\\appdata\\local\\anaconda3\\envs\\nlp\\lib\\site-packages (0.3.12)\n",
      "Requirement already satisfied: packaging>=21.3 in c:\\users\\amalviya\\appdata\\local\\anaconda3\\envs\\nlp\\lib\\site-packages (from unstructured_pytesseract) (23.2)\n",
      "Requirement already satisfied: Pillow>=8.0.0 in c:\\users\\amalviya\\appdata\\local\\anaconda3\\envs\\nlp\\lib\\site-packages (from unstructured_pytesseract) (10.3.0)\n",
      "Note: you may need to restart the kernel to use updated packages.\n",
      "Requirement already satisfied: psutil in c:\\users\\amalviya\\appdata\\local\\anaconda3\\envs\\nlp\\lib\\site-packages (5.9.0)\n",
      "Note: you may need to restart the kernel to use updated packages.\n",
      "Requirement already satisfied: unstructured_inference in c:\\users\\amalviya\\appdata\\local\\anaconda3\\envs\\nlp\\lib\\site-packages (0.7.36)\n",
      "Requirement already satisfied: layoutparser in c:\\users\\amalviya\\appdata\\local\\anaconda3\\envs\\nlp\\lib\\site-packages (from unstructured_inference) (0.3.4)\n",
      "Requirement already satisfied: python-multipart in c:\\users\\amalviya\\appdata\\local\\anaconda3\\envs\\nlp\\lib\\site-packages (from unstructured_inference) (0.0.9)\n",
      "Requirement already satisfied: huggingface-hub in c:\\users\\amalviya\\appdata\\local\\anaconda3\\envs\\nlp\\lib\\site-packages (from unstructured_inference) (0.23.4)\n",
      "Requirement already satisfied: opencv-python!=4.7.0.68 in c:\\users\\amalviya\\appdata\\local\\anaconda3\\envs\\nlp\\lib\\site-packages (from unstructured_inference) (4.10.0.82)\n",
      "Requirement already satisfied: onnx in c:\\users\\amalviya\\appdata\\local\\anaconda3\\envs\\nlp\\lib\\site-packages (from unstructured_inference) (1.16.1)\n",
      "Requirement already satisfied: onnxruntime>=1.17.0 in c:\\users\\amalviya\\appdata\\local\\anaconda3\\envs\\nlp\\lib\\site-packages (from unstructured_inference) (1.18.1)\n",
      "Requirement already satisfied: matplotlib in c:\\users\\amalviya\\appdata\\local\\anaconda3\\envs\\nlp\\lib\\site-packages (from unstructured_inference) (3.9.0)\n",
      "Requirement already satisfied: torch in c:\\users\\amalviya\\appdata\\local\\anaconda3\\envs\\nlp\\lib\\site-packages (from unstructured_inference) (2.3.1)\n",
      "Requirement already satisfied: timm in c:\\users\\amalviya\\appdata\\local\\anaconda3\\envs\\nlp\\lib\\site-packages (from unstructured_inference) (1.0.7)\n",
      "Requirement already satisfied: transformers>=4.25.1 in c:\\users\\amalviya\\appdata\\local\\anaconda3\\envs\\nlp\\lib\\site-packages (from unstructured_inference) (4.41.2)\n",
      "Requirement already satisfied: rapidfuzz in c:\\users\\amalviya\\appdata\\local\\anaconda3\\envs\\nlp\\lib\\site-packages (from unstructured_inference) (3.9.3)\n",
      "Requirement already satisfied: coloredlogs in c:\\users\\amalviya\\appdata\\local\\anaconda3\\envs\\nlp\\lib\\site-packages (from onnxruntime>=1.17.0->unstructured_inference) (15.0.1)\n",
      "Requirement already satisfied: flatbuffers in c:\\users\\amalviya\\appdata\\local\\anaconda3\\envs\\nlp\\lib\\site-packages (from onnxruntime>=1.17.0->unstructured_inference) (24.3.25)\n",
      "Requirement already satisfied: numpy<2.0,>=1.21.6 in c:\\users\\amalviya\\appdata\\local\\anaconda3\\envs\\nlp\\lib\\site-packages (from onnxruntime>=1.17.0->unstructured_inference) (1.26.4)\n",
      "Requirement already satisfied: packaging in c:\\users\\amalviya\\appdata\\local\\anaconda3\\envs\\nlp\\lib\\site-packages (from onnxruntime>=1.17.0->unstructured_inference) (23.2)\n",
      "Requirement already satisfied: protobuf in c:\\users\\amalviya\\appdata\\local\\anaconda3\\envs\\nlp\\lib\\site-packages (from onnxruntime>=1.17.0->unstructured_inference) (4.25.3)\n",
      "Requirement already satisfied: sympy in c:\\users\\amalviya\\appdata\\local\\anaconda3\\envs\\nlp\\lib\\site-packages (from onnxruntime>=1.17.0->unstructured_inference) (1.12.1)\n",
      "Requirement already satisfied: filelock in c:\\users\\amalviya\\appdata\\local\\anaconda3\\envs\\nlp\\lib\\site-packages (from transformers>=4.25.1->unstructured_inference) (3.15.1)\n",
      "Requirement already satisfied: pyyaml>=5.1 in c:\\users\\amalviya\\appdata\\local\\anaconda3\\envs\\nlp\\lib\\site-packages (from transformers>=4.25.1->unstructured_inference) (6.0.1)\n",
      "Requirement already satisfied: regex!=2019.12.17 in c:\\users\\amalviya\\appdata\\local\\anaconda3\\envs\\nlp\\lib\\site-packages (from transformers>=4.25.1->unstructured_inference) (2024.5.15)\n",
      "Requirement already satisfied: requests in c:\\users\\amalviya\\appdata\\local\\anaconda3\\envs\\nlp\\lib\\site-packages (from transformers>=4.25.1->unstructured_inference) (2.32.1)\n",
      "Requirement already satisfied: tokenizers<0.20,>=0.19 in c:\\users\\amalviya\\appdata\\local\\anaconda3\\envs\\nlp\\lib\\site-packages (from transformers>=4.25.1->unstructured_inference) (0.19.1)\n",
      "Requirement already satisfied: safetensors>=0.4.1 in c:\\users\\amalviya\\appdata\\local\\anaconda3\\envs\\nlp\\lib\\site-packages (from transformers>=4.25.1->unstructured_inference) (0.4.3)\n",
      "Requirement already satisfied: tqdm>=4.27 in c:\\users\\amalviya\\appdata\\local\\anaconda3\\envs\\nlp\\lib\\site-packages (from transformers>=4.25.1->unstructured_inference) (4.66.4)\n",
      "Requirement already satisfied: fsspec>=2023.5.0 in c:\\users\\amalviya\\appdata\\local\\anaconda3\\envs\\nlp\\lib\\site-packages (from huggingface-hub->unstructured_inference) (2024.5.0)\n",
      "Requirement already satisfied: typing-extensions>=3.7.4.3 in c:\\users\\amalviya\\appdata\\local\\anaconda3\\envs\\nlp\\lib\\site-packages (from huggingface-hub->unstructured_inference) (4.11.0)\n",
      "Requirement already satisfied: scipy in c:\\users\\amalviya\\appdata\\local\\anaconda3\\envs\\nlp\\lib\\site-packages (from layoutparser->unstructured_inference) (1.13.1)\n",
      "Requirement already satisfied: pandas in c:\\users\\amalviya\\appdata\\local\\anaconda3\\envs\\nlp\\lib\\site-packages (from layoutparser->unstructured_inference) (2.2.2)\n",
      "Requirement already satisfied: pillow in c:\\users\\amalviya\\appdata\\local\\anaconda3\\envs\\nlp\\lib\\site-packages (from layoutparser->unstructured_inference) (10.3.0)\n",
      "Requirement already satisfied: iopath in c:\\users\\amalviya\\appdata\\local\\anaconda3\\envs\\nlp\\lib\\site-packages (from layoutparser->unstructured_inference) (0.1.10)\n",
      "Requirement already satisfied: pdfplumber in c:\\users\\amalviya\\appdata\\local\\anaconda3\\envs\\nlp\\lib\\site-packages (from layoutparser->unstructured_inference) (0.11.1)\n",
      "Requirement already satisfied: pdf2image in c:\\users\\amalviya\\appdata\\local\\anaconda3\\envs\\nlp\\lib\\site-packages (from layoutparser->unstructured_inference) (1.17.0)\n",
      "Requirement already satisfied: contourpy>=1.0.1 in c:\\users\\amalviya\\appdata\\local\\anaconda3\\envs\\nlp\\lib\\site-packages (from matplotlib->unstructured_inference) (1.2.1)\n",
      "Requirement already satisfied: cycler>=0.10 in c:\\users\\amalviya\\appdata\\local\\anaconda3\\envs\\nlp\\lib\\site-packages (from matplotlib->unstructured_inference) (0.12.1)\n",
      "Requirement already satisfied: fonttools>=4.22.0 in c:\\users\\amalviya\\appdata\\local\\anaconda3\\envs\\nlp\\lib\\site-packages (from matplotlib->unstructured_inference) (4.53.0)\n",
      "Requirement already satisfied: kiwisolver>=1.3.1 in c:\\users\\amalviya\\appdata\\local\\anaconda3\\envs\\nlp\\lib\\site-packages (from matplotlib->unstructured_inference) (1.4.5)\n",
      "Requirement already satisfied: pyparsing>=2.3.1 in c:\\users\\amalviya\\appdata\\local\\anaconda3\\envs\\nlp\\lib\\site-packages (from matplotlib->unstructured_inference) (3.1.2)\n",
      "Requirement already satisfied: python-dateutil>=2.7 in c:\\users\\amalviya\\appdata\\local\\anaconda3\\envs\\nlp\\lib\\site-packages (from matplotlib->unstructured_inference) (2.8.2)\n",
      "Requirement already satisfied: importlib-resources>=3.2.0 in c:\\users\\amalviya\\appdata\\local\\anaconda3\\envs\\nlp\\lib\\site-packages (from matplotlib->unstructured_inference) (6.4.0)\n",
      "Requirement already satisfied: torchvision in c:\\users\\amalviya\\appdata\\local\\anaconda3\\envs\\nlp\\lib\\site-packages (from timm->unstructured_inference) (0.18.1)\n",
      "Requirement already satisfied: networkx in c:\\users\\amalviya\\appdata\\local\\anaconda3\\envs\\nlp\\lib\\site-packages (from torch->unstructured_inference) (3.2.1)\n",
      "Requirement already satisfied: jinja2 in c:\\users\\amalviya\\appdata\\local\\anaconda3\\envs\\nlp\\lib\\site-packages (from torch->unstructured_inference) (3.1.4)\n",
      "Requirement already satisfied: mkl<=2021.4.0,>=2021.1.1 in c:\\users\\amalviya\\appdata\\local\\anaconda3\\envs\\nlp\\lib\\site-packages (from torch->unstructured_inference) (2021.4.0)\n",
      "Requirement already satisfied: zipp>=3.1.0 in c:\\users\\amalviya\\appdata\\local\\anaconda3\\envs\\nlp\\lib\\site-packages (from importlib-resources>=3.2.0->matplotlib->unstructured_inference) (3.17.0)\n",
      "Requirement already satisfied: intel-openmp==2021.* in c:\\users\\amalviya\\appdata\\local\\anaconda3\\envs\\nlp\\lib\\site-packages (from mkl<=2021.4.0,>=2021.1.1->torch->unstructured_inference) (2021.4.0)\n",
      "Requirement already satisfied: tbb==2021.* in c:\\users\\amalviya\\appdata\\local\\anaconda3\\envs\\nlp\\lib\\site-packages (from mkl<=2021.4.0,>=2021.1.1->torch->unstructured_inference) (2021.12.0)\n",
      "Requirement already satisfied: six>=1.5 in c:\\users\\amalviya\\appdata\\local\\anaconda3\\envs\\nlp\\lib\\site-packages (from python-dateutil>=2.7->matplotlib->unstructured_inference) (1.16.0)\n",
      "Requirement already satisfied: colorama in c:\\users\\amalviya\\appdata\\local\\anaconda3\\envs\\nlp\\lib\\site-packages (from tqdm>=4.27->transformers>=4.25.1->unstructured_inference) (0.4.6)\n",
      "Requirement already satisfied: humanfriendly>=9.1 in c:\\users\\amalviya\\appdata\\local\\anaconda3\\envs\\nlp\\lib\\site-packages (from coloredlogs->onnxruntime>=1.17.0->unstructured_inference) (10.0)\n",
      "Requirement already satisfied: portalocker in c:\\users\\amalviya\\appdata\\local\\anaconda3\\envs\\nlp\\lib\\site-packages (from iopath->layoutparser->unstructured_inference) (2.8.2)\n",
      "Requirement already satisfied: MarkupSafe>=2.0 in c:\\users\\amalviya\\appdata\\local\\anaconda3\\envs\\nlp\\lib\\site-packages (from jinja2->torch->unstructured_inference) (2.1.5)\n",
      "Requirement already satisfied: pytz>=2020.1 in c:\\users\\amalviya\\appdata\\local\\anaconda3\\envs\\nlp\\lib\\site-packages (from pandas->layoutparser->unstructured_inference) (2024.1)\n",
      "Requirement already satisfied: tzdata>=2022.7 in c:\\users\\amalviya\\appdata\\local\\anaconda3\\envs\\nlp\\lib\\site-packages (from pandas->layoutparser->unstructured_inference) (2024.1)\n",
      "Requirement already satisfied: pdfminer.six==20231228 in c:\\users\\amalviya\\appdata\\local\\anaconda3\\envs\\nlp\\lib\\site-packages (from pdfplumber->layoutparser->unstructured_inference) (20231228)\n",
      "Requirement already satisfied: pypdfium2>=4.18.0 in c:\\users\\amalviya\\appdata\\local\\anaconda3\\envs\\nlp\\lib\\site-packages (from pdfplumber->layoutparser->unstructured_inference) (4.30.0)\n",
      "Requirement already satisfied: charset-normalizer>=2.0.0 in c:\\users\\amalviya\\appdata\\local\\anaconda3\\envs\\nlp\\lib\\site-packages (from pdfminer.six==20231228->pdfplumber->layoutparser->unstructured_inference) (3.3.2)\n",
      "Requirement already satisfied: cryptography>=36.0.0 in c:\\users\\amalviya\\appdata\\local\\anaconda3\\envs\\nlp\\lib\\site-packages (from pdfminer.six==20231228->pdfplumber->layoutparser->unstructured_inference) (42.0.7)\n",
      "Requirement already satisfied: idna<4,>=2.5 in c:\\users\\amalviya\\appdata\\local\\anaconda3\\envs\\nlp\\lib\\site-packages (from requests->transformers>=4.25.1->unstructured_inference) (3.7)\n",
      "Requirement already satisfied: urllib3<3,>=1.21.1 in c:\\users\\amalviya\\appdata\\local\\anaconda3\\envs\\nlp\\lib\\site-packages (from requests->transformers>=4.25.1->unstructured_inference) (2.2.1)\n",
      "Requirement already satisfied: certifi>=2017.4.17 in c:\\users\\amalviya\\appdata\\local\\anaconda3\\envs\\nlp\\lib\\site-packages (from requests->transformers>=4.25.1->unstructured_inference) (2024.2.2)\n",
      "Requirement already satisfied: mpmath<1.4.0,>=1.1.0 in c:\\users\\amalviya\\appdata\\local\\anaconda3\\envs\\nlp\\lib\\site-packages (from sympy->onnxruntime>=1.17.0->unstructured_inference) (1.3.0)\n",
      "Requirement already satisfied: pyreadline3 in c:\\users\\amalviya\\appdata\\local\\anaconda3\\envs\\nlp\\lib\\site-packages (from humanfriendly>=9.1->coloredlogs->onnxruntime>=1.17.0->unstructured_inference) (3.4.1)\n",
      "Requirement already satisfied: pywin32>=226 in c:\\users\\amalviya\\appdata\\local\\anaconda3\\envs\\nlp\\lib\\site-packages (from portalocker->iopath->layoutparser->unstructured_inference) (305.1)\n",
      "Requirement already satisfied: cffi>=1.12 in c:\\users\\amalviya\\appdata\\local\\anaconda3\\envs\\nlp\\lib\\site-packages (from cryptography>=36.0.0->pdfminer.six==20231228->pdfplumber->layoutparser->unstructured_inference) (1.16.0)\n",
      "Requirement already satisfied: pycparser in c:\\users\\amalviya\\appdata\\local\\anaconda3\\envs\\nlp\\lib\\site-packages (from cffi>=1.12->cryptography>=36.0.0->pdfminer.six==20231228->pdfplumber->layoutparser->unstructured_inference) (2.22)\n",
      "Note: you may need to restart the kernel to use updated packages.\n"
     ]
    }
   ],
   "source": [
    "%pip install pillow_heif\n",
    "%pip install matplotlib\n",
    "%pip install unstructured_pytesseract\n",
    "%pip install psutil\n",
    "%pip install unstructured_inference"
   ]
  },
  {
   "cell_type": "code",
   "execution_count": 4,
   "metadata": {},
   "outputs": [
    {
     "name": "stderr",
     "output_type": "stream",
     "text": [
      "c:\\Users\\AMALVIYA\\AppData\\Local\\anaconda3\\envs\\nlp\\lib\\site-packages\\tqdm\\auto.py:21: TqdmWarning: IProgress not found. Please update jupyter and ipywidgets. See https://ipywidgets.readthedocs.io/en/stable/user_install.html\n",
      "  from .autonotebook import tqdm as notebook_tqdm\n"
     ]
    }
   ],
   "source": [
    "local_path = \"doj.pdf\"\n",
    "\n",
    "# Local PDF file uploads\n",
    "if local_path:\n",
    "  loader = UnstructuredPDFLoader(file_path=local_path)\n",
    "  data = loader.load()\n",
    "else:\n",
    "  print(\"Upload a PDF file\")"
   ]
  },
  {
   "cell_type": "code",
   "execution_count": 5,
   "metadata": {},
   "outputs": [
    {
     "data": {
      "text/plain": [
       "\"6/4/24, 12:40 PM\\n\\nWestern District of Texas | Dallas Man Sentenced for Role in Human Smuggling Organization | United States Department of J…\\n\\nPRESS RELEASE\\n\\nDallas Man Sentenced for Role in Human Smuggling Organization\\n\\nThursday, May 30, 2024\\n\\nFor Immediate Release\\n\\nU.S. Attorney's Ofﬁce, Western District\\n\\nof Texas\\n\\nSAN ANTONIO – A Dallas man was sentenced in a federal court in San Antonio to 84 months in prison for conspiracy to transport undocumented noncitizens.\\n\\nAccording to court documents, Sedrick Zelitis Smith, 47, was a member of a human smuggling organization, coordinating transport of migrants who arrived in Laredo from\\n\\nMexico, serving as the go-between for organization leadership and load drivers during smuggling events, and assisting in the theft and procurement of tractor trailers. On multiple occasions, Smith traveled between Dallas, San Antonio and Laredo to assist with smuggling\\n\\nloads. He also served as a driver for the organization, smuggling migrants from Laredo to San Antonio, using his commercial driver’s license.\\n\\nSmith’s arrest was the result of an investigation led by Homeland Security Investigations beginning in May 2021. Agents learned that the human smuggling organization had smuggled more than 900 migrants from Laredo to San Antonio inside tractor trailers in at least 19 human smuggling events. The loads ranged from approximately 30 migrants to more than 100 packed into a single trailer.\\n\\nNine others have been indicted in the case. Bryan Adamson, Ronnie Joe Branch, Eliseo Loredo, Rodney Edward Shavers, Mark Algie Holliday, Francisco Arredondo-Colmenero, and\\n\\nDebbie Marie Gonzales await court proceedings.\\n\\nFredi Zagala-Servin was sentenced in April to 97 months in prison for Conspiracy to\\n\\nTransport Illegal Aliens.\\n\\nhttps://www.justice.gov/usao-wdtx/pr/dallas-man-sentenced-role-human-smuggling-organization\\n\\n1/4\\n\\n6/4/24, 12:40 PM\\n\\nWestern District of Texas | Dallas Man Sentenced for Role in Human Smuggling Organization | United States Department of J…\\n\\nNorman Lee Walker Jr. was arrested May 21.\\n\\n“With the rise of human smuggling in recent years, it is absolutely critical that we send a\\n\\nmessage to criminals throughout all levels of these organizations that their crimes at the\\n\\nexpense of vulnerable individuals are serious, they are dangerous, and we are here to readily\\n\\nprosecute,” said U.S. Attorney Jaime Esparza for the Western District of Texas. “I appreciate\\n\\nthe dedication of our partners at HSI and our Joint Task Force Alpha initiative. Their efforts\\n\\nhave been essential in taking down this HSO and many others. We’ll continue to dismantle\\n\\nthese groups and serve justice together.”\\n\\n“Justice was served for a human smuggler responsible for coordinating the transportation of\\n\\nhundreds of noncitizens from Laredo to San Antonio. These noncitizens were crammed into\\n\\ntractor trailers, during multiple smuggling events in the stiﬂing Texas heat,” said Special\\n\\nAgent in Charge Craig Larrabee for HSI San Antonio. “HSI is committed to aggressively\\n\\ntarget human smugglers and smuggling organizations who continually victimize people for\\n\\nproﬁt.”\\n\\nHSI and JTFA investigated the case.\\n\\nAssistant U.S. Attorney Amanda Brown prosecuted the case.\\n\\nThe indictments and convictions of these defendants are the result of the coordinated efforts of Joint Task Force Alpha (JTFA). The U.S. Attorney’s Ofﬁce for the Western District of Texas is part of JTFA, which was established by Attorney General Merrick B. Garland created JTFA in June 2021 to marshal the investigative and prosecutorial resources of the Department of Justice, in partnership with the Department of Homeland Security to strengthen the Justice Department’s efforts to combat the rise in proliﬁc and dangerous smuggling emanating from Central America\\n\\nand impacting our border communities. JTFA is comprised of detailees from U.S. Attorneys’ Ofﬁces along the southwest border, including the Southern District of Texas, the Western District of Texas, the District of New Mexico, the District of Arizona, and the Southern District of California. Dedicated support is also provided by numerous components of the Justice Department’s Criminal Division that are part of JTFA, led by the Human Rights and Special Prosecutions Section (HRSP), and supported by the Ofﬁce of Prosecutorial Development, Assistance, and Training (OPDAT), the Narcotic and Dangerous Drug Section (NDDS), the Money Laundering and Asset Recovery Section (MLARS), the Ofﬁce of Enforcement Operations (OEO),\\n\\nthe Ofﬁce of International Affairs (OIA), and the Violent Crime and Racketeering Section JTFA also relies on substantial law enforcement investment from DHS, FBI, the Drug Enforcement Administration (DEA), and other partners. To date, JTFA’s work has resulted in over 295 domestic and international arrests of leaders, organizers, and signiﬁcant facilitators of human smuggling; over 230 U.S. convictions; 170+ signiﬁcant jail sentences imposed; and forfeitures of substantial assets.\\n\\n###\\n\\nContact\\n\\nhttps://www.justice.gov/usao-wdtx/pr/dallas-man-sentenced-role-human-smuggling-organization\\n\\n2/4\\n\\n6/4/24, 12:40 PM\\n\\nWestern District of Texas | Dallas Man Sentenced for Role in Human Smuggling Organization | United States Department of J…\\n\\nUSATXW.MediaInquiry@usdoj.gov\\n\\nUpdated May 30, 2024\\n\\nTopic\\n\\nHUMAN TRAFFICKING\\n\\nComponent\\n\\nUSAO - Texas, Western\\n\\nRelated Content\\n\\nPRESS RELEASE\\n\\nHuman Smuggling Organization Leader Sentenced in San Antonio\\n\\nFebruary 8, 2024\\n\\nPRESS RELEASE\\n\\nMember of Criminal Organization Pleads Guilty to Deadly Kidnapping in El Paso\\n\\nFebruary 7, 2024\\n\\nPRESS RELEASE\\n\\nhttps://www.justice.gov/usao-wdtx/pr/dallas-man-sentenced-role-human-smuggling-organization\\n\\n3/4\\n\\n6/4/24, 12:40 PM\\n\\nWestern District of Texas | Dallas Man Sentenced for Role in Human Smuggling Organization | United States Department of J…\\n\\nTexas Man Pleads Guilty in Case Involving Plane Crash that Injured Undocumented Noncitizens\\n\\nFebruary 7, 2023\\n\\nWestern District of Texas\\n\\nMain Ofﬁce:\\n\\n601 NW Loop 410, Suite 600\\n\\nSan Antonio, Texas 78216\\n\\nSan Antonio (Main): (210) 384-7100\\n\\nAlpine: (432) 837-7332\\n\\nAustin: (512) 916-5858\\n\\nDel Rio: (830) 703-2025\\n\\nEl Paso: (915) 534-6884\\n\\nMidland: (432) 686-4110\\n\\nWaco: (254) 750-1580\\n\\nhttps://www.justice.gov/usao-wdtx/pr/dallas-man-sentenced-role-human-smuggling-organization\\n\\n4/4\""
      ]
     },
     "execution_count": 5,
     "metadata": {},
     "output_type": "execute_result"
    }
   ],
   "source": [
    "# Preview first page\n",
    "data[0].page_content"
   ]
  },
  {
   "cell_type": "code",
   "execution_count": 15,
   "metadata": {},
   "outputs": [
    {
     "name": "stderr",
     "output_type": "stream",
     "text": [
      "\u001b[?25lpulling manifest ⠙ \u001b[?25h\u001b[?25l\u001b[2K\u001b[1Gpulling manifest ⠙ \u001b[?25h\u001b[?25l\u001b[2K\u001b[1Gpulling manifest ⠸ \u001b[?25h\u001b[?25l\u001b[2K\u001b[1Gpulling manifest ⠸ \u001b[?25h\u001b[?25l\u001b[2K\u001b[1Gpulling manifest ⠴ \u001b[?25h\u001b[?25l\u001b[2K\u001b[1Gpulling manifest ⠦ \u001b[?25h\u001b[?25l\u001b[2K\u001b[1Gpulling manifest ⠦ \u001b[?25h\u001b[?25l\u001b[2K\u001b[1Gpulling manifest ⠇ \u001b[?25h\u001b[?25l\u001b[2K\u001b[1Gpulling manifest ⠏ \u001b[?25h\u001b[?25l\u001b[2K\u001b[1Gpulling manifest ⠋ \u001b[?25h\u001b[?25l\u001b[2K\u001b[1Gpulling manifest ⠙ \u001b[?25h\u001b[?25l\u001b[2K\u001b[1Gpulling manifest ⠙ \u001b[?25h\u001b[?25l\u001b[2K\u001b[1Gpulling manifest \n",
      "pulling 970aa74c0a90... 100% ▕████████████████▏ 274 MB                         \n",
      "pulling c71d239df917... 100% ▕████████████████▏  11 KB                         \n",
      "pulling ce4a164fc046... 100% ▕████████████████▏   17 B                         \n",
      "pulling 31df23ea7daa... 100% ▕████████████████▏  420 B                         \n",
      "verifying sha256 digest \n",
      "writing manifest \n",
      "removing any unused layers \n",
      "success \u001b[?25h\n"
     ]
    }
   ],
   "source": [
    "!ollama pull nomic-embed-text"
   ]
  },
  {
   "cell_type": "code",
   "execution_count": 17,
   "metadata": {},
   "outputs": [
    {
     "name": "stdout",
     "output_type": "stream",
     "text": [
      "NAME                    \tID          \tSIZE  \tMODIFIED     \n",
      "nomic-embed-text:latest \t0a109f422b47\t274 MB\t2 hours ago \t\n",
      "mxbai-embed-large:latest\t468836162de7\t669 MB\t22 hours ago\t\n",
      "llama3:latest           \t365c0bd3c000\t4.7 GB\t4 days ago  \t\n"
     ]
    }
   ],
   "source": [
    "!ollama list"
   ]
  },
  {
   "cell_type": "code",
   "execution_count": 11,
   "metadata": {},
   "outputs": [
    {
     "name": "stdout",
     "output_type": "stream",
     "text": [
      "Note: you may need to restart the kernel to use updated packages.\n",
      "Note: you may need to restart the kernel to use updated packages.\n"
     ]
    }
   ],
   "source": [
    "%pip install --q chromadb\n",
    "%pip install --q langchain-text-splitters"
   ]
  },
  {
   "cell_type": "code",
   "execution_count": 6,
   "metadata": {},
   "outputs": [],
   "source": [
    "from langchain_community.embeddings import OllamaEmbeddings\n",
    "from langchain_text_splitters import RecursiveCharacterTextSplitter\n",
    "from langchain_community.vectorstores import Chroma"
   ]
  },
  {
   "cell_type": "code",
   "execution_count": 7,
   "metadata": {},
   "outputs": [],
   "source": [
    "# Split and chunk \n",
    "text_splitter = RecursiveCharacterTextSplitter(chunk_size=7500, chunk_overlap=100)\n",
    "chunks = text_splitter.split_documents(data)"
   ]
  },
  {
   "cell_type": "code",
   "execution_count": 8,
   "metadata": {},
   "outputs": [
    {
     "name": "stderr",
     "output_type": "stream",
     "text": [
      "OllamaEmbeddings: 100%|██████████| 1/1 [00:18<00:00, 18.33s/it]\n"
     ]
    }
   ],
   "source": [
    "# Add to vector database\n",
    "vector_db = Chroma.from_documents(\n",
    "    documents=chunks, \n",
    "    embedding=OllamaEmbeddings(model=\"nomic-embed-text\",show_progress=True),\n",
    "    collection_name=\"local-rag\"\n",
    ")"
   ]
  },
  {
   "cell_type": "code",
   "execution_count": 9,
   "metadata": {},
   "outputs": [],
   "source": [
    "from langchain.prompts import ChatPromptTemplate, PromptTemplate\n",
    "from langchain_core.output_parsers import StrOutputParser\n",
    "from langchain_community.chat_models import ChatOllama\n",
    "from langchain_core.runnables import RunnablePassthrough\n",
    "from langchain.retrievers.multi_query import MultiQueryRetriever"
   ]
  },
  {
   "cell_type": "code",
   "execution_count": 10,
   "metadata": {},
   "outputs": [],
   "source": [
    "# LLM from Ollama\n",
    "local_model = \"llama3\"\n",
    "llm = ChatOllama(model=local_model)"
   ]
  },
  {
   "cell_type": "code",
   "execution_count": 11,
   "metadata": {},
   "outputs": [],
   "source": [
    "QUERY_PROMPT = PromptTemplate(\n",
    "    input_variables=[\"question\"],\n",
    "    template=\"\"\"You are an AI language model assistant. Your task is to generate five\n",
    "    different versions of the given user question to retrieve relevant documents from\n",
    "    a vector database. By generating multiple perspectives on the user question, your\n",
    "    goal is to help the user overcome some of the limitations of the distance-based\n",
    "    similarity search. Provide these alternative questions separated by newlines.\n",
    "    Original question: {question}\"\"\",\n",
    ")"
   ]
  },
  {
   "cell_type": "code",
   "execution_count": 12,
   "metadata": {},
   "outputs": [],
   "source": [
    "retriever = MultiQueryRetriever.from_llm(\n",
    "    vector_db.as_retriever(), \n",
    "    llm,\n",
    "    prompt=QUERY_PROMPT\n",
    ")\n",
    "\n",
    "# RAG prompt\n",
    "template = \"\"\"Answer the question based ONLY on the following context:\n",
    "{context}\n",
    "Question: {question}\n",
    "\"\"\"\n",
    "\n",
    "prompt = ChatPromptTemplate.from_template(template)"
   ]
  },
  {
   "cell_type": "code",
   "execution_count": 13,
   "metadata": {},
   "outputs": [],
   "source": [
    "chain = (\n",
    "    {\"context\": retriever, \"question\": RunnablePassthrough()}\n",
    "    | prompt\n",
    "    | llm\n",
    "    | StrOutputParser()\n",
    ")"
   ]
  },
  {
   "cell_type": "code",
   "execution_count": 17,
   "metadata": {},
   "outputs": [
    {
     "name": "stderr",
     "output_type": "stream",
     "text": [
      "OllamaEmbeddings: 100%|██████████| 1/1 [00:04<00:00,  4.53s/it]\n",
      "Number of requested results 4 is greater than number of elements in index 1, updating n_results = 1\n",
      "OllamaEmbeddings: 100%|██████████| 1/1 [00:02<00:00,  2.10s/it]\n",
      "Number of requested results 4 is greater than number of elements in index 1, updating n_results = 1\n",
      "OllamaEmbeddings: 100%|██████████| 1/1 [00:02<00:00,  2.25s/it]\n",
      "Number of requested results 4 is greater than number of elements in index 1, updating n_results = 1\n",
      "OllamaEmbeddings: 100%|██████████| 1/1 [00:02<00:00,  2.43s/it]\n",
      "Number of requested results 4 is greater than number of elements in index 1, updating n_results = 1\n",
      "OllamaEmbeddings: 100%|██████████| 1/1 [00:02<00:00,  2.10s/it]\n",
      "Number of requested results 4 is greater than number of elements in index 1, updating n_results = 1\n",
      "OllamaEmbeddings: 100%|██████████| 1/1 [00:02<00:00,  2.29s/it]\n",
      "Number of requested results 4 is greater than number of elements in index 1, updating n_results = 1\n",
      "OllamaEmbeddings: 100%|██████████| 1/1 [00:02<00:00,  2.34s/it]\n",
      "Number of requested results 4 is greater than number of elements in index 1, updating n_results = 1\n",
      "OllamaEmbeddings: 100%|██████████| 1/1 [00:02<00:00,  2.30s/it]\n",
      "Number of requested results 4 is greater than number of elements in index 1, updating n_results = 1\n",
      "OllamaEmbeddings: 100%|██████████| 1/1 [00:02<00:00,  2.30s/it]\n",
      "Number of requested results 4 is greater than number of elements in index 1, updating n_results = 1\n",
      "OllamaEmbeddings: 100%|██████████| 1/1 [00:02<00:00,  2.29s/it]\n",
      "Number of requested results 4 is greater than number of elements in index 1, updating n_results = 1\n",
      "OllamaEmbeddings: 100%|██████████| 1/1 [00:02<00:00,  2.11s/it]\n",
      "Number of requested results 4 is greater than number of elements in index 1, updating n_results = 1\n",
      "OllamaEmbeddings: 100%|██████████| 1/1 [00:02<00:00,  2.82s/it]\n",
      "Number of requested results 4 is greater than number of elements in index 1, updating n_results = 1\n"
     ]
    },
    {
     "data": {
      "text/plain": [
       "'According to the provided context, Fredi Zagala-Servin was sentenced in April to 97 months in prison for Conspiracy to Transport Illegal Aliens.'"
      ]
     },
     "execution_count": 17,
     "metadata": {},
     "output_type": "execute_result"
    }
   ],
   "source": [
    "chain.invoke(\"who is Fredi Zagala-Servin\")\n"
   ]
  },
  {
   "cell_type": "code",
   "execution_count": null,
   "metadata": {},
   "outputs": [],
   "source": []
  }
 ],
 "metadata": {
  "kernelspec": {
   "display_name": "Python 3",
   "language": "python",
   "name": "python3"
  },
  "language_info": {
   "codemirror_mode": {
    "name": "ipython",
    "version": 3
   },
   "file_extension": ".py",
   "mimetype": "text/x-python",
   "name": "python",
   "nbconvert_exporter": "python",
   "pygments_lexer": "ipython3",
   "version": "3.9.19"
  }
 },
 "nbformat": 4,
 "nbformat_minor": 2
}
